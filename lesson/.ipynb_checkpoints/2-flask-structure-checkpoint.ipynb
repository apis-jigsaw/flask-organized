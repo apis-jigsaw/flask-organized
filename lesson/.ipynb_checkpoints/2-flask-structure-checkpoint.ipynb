{
 "cells": [
  {
   "cell_type": "markdown",
   "id": "f23c43e5-e8e2-4366-a8ae-e1017ff02a3d",
   "metadata": {},
   "source": [
    "# Flask Structure"
   ]
  },
  {
   "cell_type": "markdown",
   "id": "1024fde4-09b1-4ad4-99c8-aa8ab6431dae",
   "metadata": {},
   "source": [
    "### Introduction"
   ]
  },
  {
   "cell_type": "markdown",
   "id": "3a1d9867-8c04-4586-b0f2-11bbe1129ba0",
   "metadata": {},
   "source": [
    "In this lesson, we'll work with organizing our imdb movies codebase."
   ]
  },
  {
   "cell_type": "markdown",
   "id": "25878063-8343-4b93-886a-f1a3b7bc4638",
   "metadata": {},
   "source": [
    "### A new structure"
   ]
  },
  {
   "cell_type": "markdown",
   "id": "0167dba4-14a3-46ca-8636-c801d2701a52",
   "metadata": {},
   "source": [
    "If you look at the structure of our codebase, you'll notice that the main difference is simply that we organized our code into folders."
   ]
  },
  {
   "cell_type": "markdown",
   "id": "98c4c0dc-f7fd-487a-b78d-3ce44aa208e0",
   "metadata": {},
   "source": [
    "```\n",
    "backend\n",
    "├── api\n",
    "│   ├── manage.py\n",
    "│   └── models\n",
    "│       ├── actor.py\n",
    "│       └── movie.py\n",
    "├── console.py\n",
    "├── films.db\n",
    "├── requirements.txt\n",
    "├── run.py\n",
    "├── settings.py\n",
    "└── tests\n",
    "    ├── __init__.py\n",
    "    └── models\n",
    "        └── test_movie.py\n",
    "```"
   ]
  },
  {
   "cell_type": "markdown",
   "id": "60f71ed1-34fc-4f28-8ae2-cc5f72fc7508",
   "metadata": {},
   "source": [
    "Specifically, we have our models of `actor.py` and `movie.py` in a new folder called `api/models`.  And notice that in the `tests` folder below, we follow this structure."
   ]
  },
  {
   "cell_type": "markdown",
   "id": "989f9839-907a-4a11-9f31-0444f2150925",
   "metadata": {},
   "source": [
    "### An `__init__.py` file"
   ]
  },
  {
   "cell_type": "markdown",
   "id": "b028cb87-df26-4516-bf02-9de8ce908982",
   "metadata": {},
   "source": [
    "There are a couple additional files as well.  The first is the `__init__.py` file.  \n",
    "\n",
    "The first file is the `__init__.py` file.  The `__init__.py` file serves multiple purposes in a Python codebase.  But for now, we use the `__init__.py` file because it makes it possible to import files that are not in a subfolder.  \n",
    "\n",
    "For example, if we look at the `tests/models/test_movie.py` file, we'll see the following:\n",
    "\n",
    "```python\n",
    "from api.models.movie import Movie\n",
    "\n",
    "def test_movie_initializes_with_values():\n",
    "    movie = Movie(['Shawshank', 1999])\n",
    "    assert movie.name == 'Shawshank'\n",
    "```\n",
    "\n",
    "In that file, from the tests folder are importing a sibling level directory of `api`.  Without the `__init__.py` files -- both the `tests/__init__.py` file and the `tests/models/__init__.py` file we simply cannot import code in our api folder.  \n",
    "\n",
    "If you try removing these files, you'll see the following error message."
   ]
  },
  {
   "cell_type": "markdown",
   "id": "cc3cb685-8dee-4cda-99de-33bbfe8d83d9",
   "metadata": {},
   "source": [
    "```python\n",
    "from api.models.movie import Movie\n",
    "E   ModuleNotFoundError: No module named 'api'\n",
    "```"
   ]
  },
  {
   "cell_type": "markdown",
   "id": "30d88ccf-deb8-43bd-a3d9-df5626a1199b",
   "metadata": {},
   "source": [
    "So the `__init__.py` allows us to access code from other folders.  \n",
    "\n",
    "Generally, it is considered best practice to add the `__init__.py` file to every folder and subfolder in the codebase."
   ]
  },
  {
   "cell_type": "markdown",
   "id": "5e17e216-eb70-4144-92b6-ed7e22f697b5",
   "metadata": {},
   "source": [
    "### The console.py file"
   ]
  },
  {
   "cell_type": "markdown",
   "id": "ccb4b2f6-a75c-45ca-aaf7-92394d30317c",
   "metadata": {},
   "source": [
    "Also notice that we have added a console.py file to our codebase.  This file allows us to interact with different files in our codebase.  If you look at the `console.py` file, you'll see the following:"
   ]
  },
  {
   "cell_type": "markdown",
   "id": "4f1a203e-5701-4384-b25f-181825d0900d",
   "metadata": {},
   "source": [
    "```python\n",
    "# console.py\n",
    "from api.models.actor import Actor\n",
    "from api.models.movie import Movie\n",
    "```"
   ]
  },
  {
   "cell_type": "markdown",
   "id": "3eacabed-7752-4605-a5bd-f1fd1a809c25",
   "metadata": {},
   "source": [
    "Adding this is useful, because now we can run `console.py` in interactive mode and easily create different `Actor` and `Movie` instances."
   ]
  },
  {
   "cell_type": "markdown",
   "id": "58d25503-bbf1-4b81-a418-f82a187ecfc0",
   "metadata": {},
   "source": [
    "<img src=\"./adding-console.png\" width=\"50%\">"
   ]
  },
  {
   "cell_type": "markdown",
   "id": "8df49a61-bf61-4817-8d20-46e05c8286c7",
   "metadata": {},
   "source": [
    "### Imports throughout the codebase"
   ]
  },
  {
   "cell_type": "markdown",
   "id": "e325172b-1058-442e-be76-206e5a568db8",
   "metadata": {},
   "source": [
    "Finally, to make importing code easier, it's recommended to import all files starting from the top level folder.  For example, in the movies.py file we are importing our Actor model starting with `api` like so:\n",
    "\n",
    "```python\n",
    "# movie.py\n",
    "from api.models.actor import Actor\n",
    "\n",
    "class Movie:\n",
    "    ...\n",
    "```\n",
    "\n",
    "And in the `actor.py` file, we import the Movie model, also starting with `api`.\n",
    "\n",
    "```python\n",
    "# actor.py\n",
    "from api.models.movie import Movie\n",
    "\n",
    "class Actor:\n",
    "    columns = ['name']\n",
    "    def __init__(self, values):\n",
    "        self.__dict__ = dict(zip(self.columns, values))\n",
    "\n",
    "    def build_movie(self, values):\n",
    "        return Movie(values)\n",
    "```"
   ]
  },
  {
   "cell_type": "markdown",
   "id": "8c4479dd-bed3-45d3-893e-dcc9c7fb0404",
   "metadata": {},
   "source": [
    "### Adding a PYTHONPATH variable"
   ]
  },
  {
   "cell_type": "markdown",
   "id": "e47bb7c9-2870-44e7-9cb6-00c8cf8ea741",
   "metadata": {},
   "source": [
    "Because we are always starting with the `api` folder to import code in our codebase, it's import to make sure that this folder is always accessible.  We can do so by setting an environmental variable called `PYTHONPATH`.\n",
    "\n",
    "We can do so with the following:"
   ]
  },
  {
   "cell_type": "markdown",
   "id": "44a57b28-8aa4-44e9-8585-30246cc3a2be",
   "metadata": {},
   "source": [
    "<img src=\"./py-path.png\" width=\"100%\">"
   ]
  },
  {
   "cell_type": "markdown",
   "id": "ddd77181-dc87-4543-932c-5c6f3a438eaf",
   "metadata": {},
   "source": [
    "So above, we set an environmental variable with the export command.  And then set the `PYTHONPATH` to the present working directory (pwd) followed by the `api` folder.  \n",
    "\n",
    "So you can see that we set an absolute path to our api folder.  So long as this path is set, we will be able to find this folder."
   ]
  },
  {
   "cell_type": "markdown",
   "id": "19101a68-69da-42b1-83cf-35d8c73d2ea0",
   "metadata": {},
   "source": [
    "### Summary"
   ]
  },
  {
   "cell_type": "markdown",
   "id": "79c395e7-5f33-423b-9c38-70329950afd9",
   "metadata": {},
   "source": [
    "In this lesson, we learned about a few new aspects of our codebase:\n",
    "\n",
    "* `__init__.py`: Allows us to more easily import sibling directories\n",
    "* `console.py`: Loads files form our codebase so we can quickly interact with our code\n",
    "\n",
    "And we also learned that when importing different files, to start with our top level directory, and to set the PYTHONPATH so that the top level directory is available.  There are a few useful resources on these topics below."
   ]
  },
  {
   "cell_type": "markdown",
   "id": "2cce1aa1-e3c9-4f9e-afcd-84dbb52df6a3",
   "metadata": {},
   "source": [
    "### Resources"
   ]
  },
  {
   "cell_type": "markdown",
   "id": "8b148bd3-e386-4c9d-8ae3-2720371a986b",
   "metadata": {},
   "source": [
    "[PythonPath Berkely reading](https://bic-berkeley.github.io/psych-214-fall-2016/using_pythonpath.html)\n"
   ]
  },
  {
   "cell_type": "markdown",
   "id": "d6b96a20-95a0-4b53-82c2-f01a74a0a3a7",
   "metadata": {},
   "source": [
    "[Relative Imports Stackoverflow](https://stackoverflow.com/questions/14132789/relative-imports-for-the-billionth-time?rq=1)"
   ]
  },
  {
   "cell_type": "markdown",
   "id": "a1860dde-2fe5-4f37-8440-8c44bdaa4226",
   "metadata": {},
   "source": [
    "[Python Modules](https://bic-berkeley.github.io/psych-214-fall-2016/sys_path.html)"
   ]
  }
 ],
 "metadata": {
  "kernelspec": {
   "display_name": "Python 3 (ipykernel)",
   "language": "python",
   "name": "python3"
  },
  "language_info": {
   "codemirror_mode": {
    "name": "ipython",
    "version": 3
   },
   "file_extension": ".py",
   "mimetype": "text/x-python",
   "name": "python",
   "nbconvert_exporter": "python",
   "pygments_lexer": "ipython3",
   "version": "3.9.7"
  }
 },
 "nbformat": 4,
 "nbformat_minor": 5
}
