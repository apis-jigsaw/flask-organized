{
 "cells": [
  {
   "cell_type": "markdown",
   "id": "f23c43e5-e8e2-4366-a8ae-e1017ff02a3d",
   "metadata": {},
   "source": [
    "# Flask Structure"
   ]
  },
  {
   "cell_type": "markdown",
   "id": "1024fde4-09b1-4ad4-99c8-aa8ab6431dae",
   "metadata": {},
   "source": [
    "### Introduction"
   ]
  },
  {
   "cell_type": "markdown",
   "id": "3a1d9867-8c04-4586-b0f2-11bbe1129ba0",
   "metadata": {},
   "source": [
    "In this lesson, we'll work on our foursquare IMDB lab, but we'll provide some additional structure to the application."
   ]
  },
  {
   "cell_type": "markdown",
   "id": "25878063-8343-4b93-886a-f1a3b7bc4638",
   "metadata": {},
   "source": [
    "### Moving our Flask Application"
   ]
  },
  {
   "cell_type": "markdown",
   "id": "66a8fbda-4ff6-4e44-9879-1a195aa14ada",
   "metadata": {},
   "source": [
    "The first thing that you'll notice is that we moved the code that runs our Flask application to a file called `api/__init__.py`.  The `__init__.py` file is the first file that will be run if we import the `api` module.  \n",
    "\n",
    "> You can try this out by connecting to the python shell, `python3`, and then typing in `import api`."
   ]
  },
  {
   "cell_type": "code",
   "execution_count": null,
   "id": "fda3f603-44ab-4a00-86e2-31ce3e495996",
   "metadata": {},
   "outputs": [],
   "source": [
    "### "
   ]
  }
 ],
 "metadata": {
  "kernelspec": {
   "display_name": "Python 3 (ipykernel)",
   "language": "python",
   "name": "python3"
  },
  "language_info": {
   "codemirror_mode": {
    "name": "ipython",
    "version": 3
   },
   "file_extension": ".py",
   "mimetype": "text/x-python",
   "name": "python",
   "nbconvert_exporter": "python",
   "pygments_lexer": "ipython3",
   "version": "3.9.7"
  }
 },
 "nbformat": 4,
 "nbformat_minor": 5
}
